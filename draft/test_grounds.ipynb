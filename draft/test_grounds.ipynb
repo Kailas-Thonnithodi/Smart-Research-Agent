{
 "cells": [
  {
   "cell_type": "code",
   "execution_count": 1,
   "id": "779d72ee",
   "metadata": {},
   "outputs": [],
   "source": [
    "from agents import Agent, Runner, trace, gen_trace_id, function_tool, WebSearchTool\n",
    "from agents.model_settings import ModelSettings\n",
    "import sendgrid\n",
    "from pydantic import BaseModel, Field\n",
    "from sendgrid.helpers.mail import Mail, Email, To, Content\n",
    "import asyncio\n",
    "import os\n",
    "from dotenv import load_dotenv\n",
    "import gradio as gr \n",
    "from typing import Dict"
   ]
  },
  {
   "cell_type": "code",
   "execution_count": 2,
   "id": "8b2048d8",
   "metadata": {},
   "outputs": [
    {
     "data": {
      "text/plain": [
       "True"
      ]
     },
     "execution_count": 2,
     "metadata": {},
     "output_type": "execute_result"
    }
   ],
   "source": [
    "load_dotenv(override=True)"
   ]
  },
  {
   "cell_type": "markdown",
   "id": "6ef8dbdc",
   "metadata": {},
   "source": [
    "# Agents"
   ]
  },
  {
   "cell_type": "code",
   "execution_count": 3,
   "id": "a612a806",
   "metadata": {},
   "outputs": [],
   "source": [
    "default_model = \"gpt-4o-mini\""
   ]
  },
  {
   "cell_type": "markdown",
   "id": "86370b58",
   "metadata": {},
   "source": [
    "## Searcher Agent"
   ]
  },
  {
   "cell_type": "code",
   "execution_count": 4,
   "id": "b7b19d05",
   "metadata": {},
   "outputs": [],
   "source": [
    "# agent instruction's parameters\n",
    "instructions_params = {\n",
    "    \"paragraphs\": 3,\n",
    "    \"words\": 300,\n",
    "    \"tone\": \"efficient\"\n",
    "} \n",
    "\n",
    "# instruction set\n",
    "instructions = f\"\"\"\n",
    "You are a research assistant.\n",
    "\n",
    "Task: Search the web for the given term and write a summary.  \n",
    "Length: {instructions_params[\"paragraphs\"]} paragraphs, about {instructions_params[\"words\"]} words.  \n",
    "Tone: {instructions_params[\"tone\"]}.  \n",
    "\n",
    "Guidelines:  \n",
    "- Focus only on key findings and main points.  \n",
    "- Exclude fluff, filler, or personal commentary.  \n",
    "- Output only the summary text.  \n",
    "\"\"\"\n",
    "\n",
    "# agent properties\n",
    "searcher_agent = Agent(\n",
    "    name = \"Searcher Agent\",\n",
    "    instructions = instructions,\n",
    "    tools = [WebSearchTool(search_context_size=\"low\")], \n",
    "    model = default_model,\n",
    "    model_settings = ModelSettings(tool_choice = \"required\")\n",
    ")"
   ]
  },
  {
   "cell_type": "markdown",
   "id": "f624b9ee",
   "metadata": {},
   "source": [
    "## Search Optimiser Agent"
   ]
  },
  {
   "cell_type": "code",
   "execution_count": 5,
   "id": "8087e1ba",
   "metadata": {},
   "outputs": [],
   "source": [
    "# Agent instruction's parameters\n",
    "# Due to the costs of using WebSearchTool, i will use only 3 searchs. \n",
    "instructions_params = {\n",
    "    \"terms\": 3,\n",
    "} \n",
    "\n",
    "# instruction set\n",
    "instructions = f\"\"\"\n",
    "You are an optimization research assistant.\n",
    "\n",
    "Task: Given a query, generate {instructions_params[\"terms\"]} web search terms.  \n",
    "Guidelines:  \n",
    "- Focus on terms that best answer the original query.  \n",
    "- Output only the search terms (no explanations or extra text).  \n",
    "\"\"\"\n",
    "\n",
    "# Using the Pydantic Functions as an easier way to package json scripts. \n",
    "\n",
    "# Give the reasoning for picking the term, based on the query\n",
    "class WebSearchTerm(BaseModel):\n",
    "    reason: str = Field(description=\"Your reasoning for why this search is important to the query.\")\n",
    "    query: str = Field(description=\"The search term to use for the web search.\")\n",
    "\n",
    "# This class will store the list of the x questions/concepts.\n",
    "class WebSearchPlan(BaseModel):\n",
    "    searches: list[WebSearchTerm] = Field(description=\"A list of web searches to perform to best answer the query.\")\n",
    "\n",
    "# agent properties\n",
    "search_optimiser_agent = Agent(\n",
    "    name = \"Search Optimiser Agent\",\n",
    "    instructions = instructions,\n",
    "    model = default_model,\n",
    "    output_type = WebSearchPlan\n",
    ")"
   ]
  },
  {
   "cell_type": "markdown",
   "id": "931c9792",
   "metadata": {},
   "source": [
    "## Writer Agent"
   ]
  },
  {
   "cell_type": "code",
   "execution_count": 6,
   "id": "6fd9f8d1",
   "metadata": {},
   "outputs": [],
   "source": [
    "# agent instruction's parameters\n",
    "instructions_params = {\n",
    "    \"page_range\": [6, 8],\n",
    "    \"words\": 1000,\n",
    "    \"tone\": \"cohesive\"\n",
    "} \n",
    "\n",
    "# instruction set\n",
    "instructions = f\"\"\"\n",
    "You are a senior researcher.\n",
    "\n",
    "Task: Write a {instructions_params[\"tone\"]} research report based on a query and initial research.  \n",
    "\n",
    "Steps:  \n",
    "1. Create a clear outline showing the structure and flow.  \n",
    "2. Write the full report in markdown format.  \n",
    "\n",
    "Requirements:  \n",
    "- Length: {instructions_params[\"page_range\"][0]}–{instructions_params[\"page_range\"][1]} pages (~{instructions_params[\"words\"]} words).  \n",
    "- Style: Detailed, thorough, and structured.\n",
    "- Output only the outline and the final markdown report (no extra commentary).  \n",
    "\"\"\"\n",
    "\n",
    "# Will generate a json based strucutre based on the generate report\n",
    "# This will be very helpful for the emailer agent. \n",
    "class ReportData(BaseModel):\n",
    "    short_summary: str = Field(description=\n",
    "                               \"A short 2-3 sentence summary of the findings.\")\n",
    "    markdown_report: str = Field(description=\"The markdown final report.\")\n",
    "    follow_up_questions: str = Field(description=\"Suggested topics to research further.\")\n",
    "\n",
    "# agent properties\n",
    "writer_agent = Agent(\n",
    "    name = \"Writer Agent\",\n",
    "    instructions = instructions,\n",
    "    model = default_model,\n",
    "    output_type = ReportData\n",
    ")"
   ]
  },
  {
   "cell_type": "markdown",
   "id": "667cab79",
   "metadata": {},
   "source": [
    "## Emailer"
   ]
  },
  {
   "cell_type": "code",
   "execution_count": 7,
   "id": "1fb6c029",
   "metadata": {},
   "outputs": [],
   "source": [
    "# agent instruction's parameters\n",
    "instructions_params = {\n",
    "    \"format\": \"professional and nice\",\n",
    "} \n",
    "\n",
    "# instruction set\n",
    "instructions = f\"\"\"\n",
    "You are an assistant that sends {instructions_params[\"format\"]}-formatted HTML emails.\n",
    "\n",
    "Task: Convert the provided detailed report into a single HTML email and send it using the send_email tool.  \n",
    "\n",
    "Requirements:  \n",
    "- Subject line must be clear and relevant.  \n",
    "- Body must be clean, well-structured HTML.  \n",
    "- Call the send_email tool once with the subject and HTML body.  \n",
    "- Do not output anything else.  \n",
    "\"\"\"\n",
    "\n",
    "# A function which is used for transporting the findings in the form of a report (report being completed by the writer agent).\n",
    "@function_tool\n",
    "def send_email(subject: str, html_body: str) -> Dict[str, str]:\n",
    "    \"\"\" Send out an email with the given subject and HTML body \"\"\"\n",
    "    sg = sendgrid.SendGridAPIClient(api_key=os.environ.get('SENDGRID_API_KEY'))\n",
    "    from_email = Email(\"kthonnithodi@gmail.com\")\n",
    "    to_email = To(\"kthonnithodi@gmail.com\")\n",
    "    content = Content(\"text/html\", html_body)\n",
    "    mail = Mail(from_email, to_email, subject, content)\n",
    "    mail_json = mail.get()\n",
    "    response = sg.client.mail.send.post(request_body=mail_json)\n",
    "    return {\"status\": \"success\"}\n",
    "\n",
    "# agent properties\n",
    "emailer_agent = Agent(\n",
    "    name = \"Emailer Agent\",\n",
    "    instructions = instructions,\n",
    "    tools = [send_email], \n",
    "    model = \"gpt-4o-mini\"\n",
    ")"
   ]
  },
  {
   "cell_type": "markdown",
   "id": "d5155a25",
   "metadata": {},
   "source": [
    "# Functions"
   ]
  },
  {
   "cell_type": "code",
   "execution_count": 8,
   "id": "b76042b1",
   "metadata": {},
   "outputs": [],
   "source": [
    "async def plan_searches(query: str):\n",
    "    \"\"\"Calling search_optimiser to find an instance of prompt for the query\"\"\"\n",
    "    print(\"Planning searches...\")\n",
    "    result = await Runner.run(search_optimiser_agent, f\"Query: {query}\")\n",
    "    print(f\"Will perform {len(result.final_output.searches)} searches\")\n",
    "    return result.final_output\n",
    "\n",
    "async def search(item: WebSearchTerm):\n",
    "    \"\"\" Use the search agent to run a web search for each item in the search plan \"\"\"\n",
    "    input = f\"Search term: {item.query}\\nReason for searching: {item.reason}\"\n",
    "    result = await Runner.run(searcher_agent, input)\n",
    "    return result.final_output\n",
    "\n",
    "async def perform_searches(search_plan: WebSearchPlan):\n",
    "    \"\"\" Calling search_optimiser to discover x amount of prompts based on the query provided.\"\"\"\n",
    "    print(\"Searching...\")\n",
    "    tasks = [asyncio.create_task(search(item)) for item in search_plan.searches]\n",
    "    results = await asyncio.gather(*tasks)\n",
    "    print(\"Finished searching\")\n",
    "    return results\n",
    "\n",
    "async def write_report(query: str, search_results: list[str]):\n",
    "    \"\"\" Use the writer agent to write a report based on the search results\"\"\"\n",
    "    print(\"Thinking about report...\")\n",
    "    input = f\"Original query: {query}\\nSummarized search results: {search_results}\"\n",
    "    result = await Runner.run(writer_agent.writer_agent, input)\n",
    "    print(\"Finished writing report\")\n",
    "    return result.final_output\n",
    "\n",
    "async def send_email(report: ReportData):\n",
    "    \"\"\" Use the email agent to send an email with the report \"\"\"\n",
    "    print(\"Writing email...\")\n",
    "    result = await Runner.run(emailer_agent, report.markdown_report)\n",
    "    print(\"Email sent\")\n",
    "    return report"
   ]
  },
  {
   "cell_type": "markdown",
   "id": "ccd53717",
   "metadata": {},
   "source": [
    "# Main Program"
   ]
  },
  {
   "cell_type": "code",
   "execution_count": 21,
   "id": "1d7f9e36",
   "metadata": {},
   "outputs": [
    {
     "name": "stdout",
     "output_type": "stream",
     "text": [
      "Planning searches...\n",
      "Will perform 3 searches\n",
      "searches=[WebSearchTerm(reason='To find detailed earnings reports for NVIDIA throughout 2025.', query='NVIDIA NVDA earnings report 2025'), WebSearchTerm(reason='To access comprehensive income statements for NVIDIA in 2025.', query='NVIDIA NVDA income statement 2025'), WebSearchTerm(reason='To locate balance sheets for NVIDIA for the year 2025.', query='NVIDIA NVDA balance sheet 2025')]\n"
     ]
    }
   ],
   "source": [
    "query = \"NVDA Earnings, Income statements, balance sheets from start of 2025 to end of 2025.\"\n",
    "\n",
    "with trace(\"Starting Search Plan\"):\n",
    "    results = await plan_searches(query=query)\n",
    "\n",
    "print(results)"
   ]
  }
 ],
 "metadata": {
  "kernelspec": {
   "display_name": "agents",
   "language": "python",
   "name": "python3"
  },
  "language_info": {
   "codemirror_mode": {
    "name": "ipython",
    "version": 3
   },
   "file_extension": ".py",
   "mimetype": "text/x-python",
   "name": "python",
   "nbconvert_exporter": "python",
   "pygments_lexer": "ipython3",
   "version": "3.13.5"
  }
 },
 "nbformat": 4,
 "nbformat_minor": 5
}
