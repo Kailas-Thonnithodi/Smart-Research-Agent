{
 "cells": [
  {
   "cell_type": "markdown",
   "id": "ad619d2e",
   "metadata": {},
   "source": [
    "# Libraries"
   ]
  },
  {
   "cell_type": "markdown",
   "id": "4996df11",
   "metadata": {},
   "source": [
    "## Agentic Related"
   ]
  },
  {
   "cell_type": "code",
   "execution_count": 17,
   "id": "d1d9ece3",
   "metadata": {},
   "outputs": [],
   "source": [
    "from agents import Agent, WebSearchTool, trace, Runner, gen_trace_id, function_tool, OpenAIChatCompletionsModel, input_guardrail, GuardrailFunctionOutput\n",
    "from openai import AsyncOpenAI\n",
    "from agents.model_settings import ModelSettings"
   ]
  },
  {
   "cell_type": "markdown",
   "id": "4bcb997c",
   "metadata": {},
   "source": [
    "## Exterior"
   ]
  },
  {
   "cell_type": "code",
   "execution_count": 12,
   "id": "0944e84a",
   "metadata": {},
   "outputs": [],
   "source": [
    "from pydantic import BaseModel\n",
    "import asyncio\n",
    "import sendgrid\n",
    "from sendgrid.helpers.mail import Mail, Email, To, Content"
   ]
  },
  {
   "cell_type": "markdown",
   "id": "707982f0",
   "metadata": {},
   "source": [
    "## Interior"
   ]
  },
  {
   "cell_type": "code",
   "execution_count": 13,
   "id": "4ae28614",
   "metadata": {},
   "outputs": [],
   "source": [
    "from dotenv import load_dotenv\n",
    "import os\n",
    "from typing import Dict\n",
    "from IPython.display import display, Markdown"
   ]
  },
  {
   "cell_type": "markdown",
   "id": "b958ddfa",
   "metadata": {},
   "source": [
    "# Development"
   ]
  },
  {
   "cell_type": "markdown",
   "id": "0c081ac3",
   "metadata": {},
   "source": [
    "## Loading in Gemini and OpenAI Models"
   ]
  },
  {
   "cell_type": "code",
   "execution_count": 30,
   "id": "359099a2",
   "metadata": {},
   "outputs": [],
   "source": [
    "# OpenAI\n",
    "load_dotenv(override=True)\n",
    "gpt_model = \"gpt-4o-mini\"\n",
    "\n",
    "# Gemini\n",
    "gemini = {\n",
    "    \"base_model\": \"gemini-2.0-flash\",\n",
    "    \"api_key\": os.getenv(\"GEMINI_API_KEY\"),\n",
    "    \"base_url\": \"https://generativelanguage.googleapis.com/v1beta\"\n",
    "}\n",
    "\n",
    "gemini_client = AsyncOpenAI(base_url=gemini[\"base_url\"], api_key=gemini[\"api_key\"])\n",
    "gemini_model = OpenAIChatCompletionsModel(model=gemini[\"base_model\"], openai_client=gemini_client)"
   ]
  },
  {
   "cell_type": "markdown",
   "id": "45c9a049",
   "metadata": {},
   "source": [
    "## Development Summary\n",
    "* OpenAI Agents SDK includes some hosted tools, these include:\\\n",
    "WebSearchTool --> Allows an agent to search the web.\\\n",
    "FileSearchTool --> Allows retrieving information from OpenAI Vector Stores.\\\n",
    "ComputerTool --> Allows automating computer use tasks. These could include taking screenshots, clicking, searching, or other operations, which would require guardrails to limit certain conditions."
   ]
  },
  {
   "cell_type": "markdown",
   "id": "30f9c433",
   "metadata": {},
   "source": [
    "## Search Agent"
   ]
  },
  {
   "cell_type": "code",
   "execution_count": 36,
   "id": "8a306a38",
   "metadata": {},
   "outputs": [],
   "source": [
    "# The search agent's instructions parameters values. (these can be changed based on your liking)\n",
    "search_agent_instructions_params = {\n",
    "    \"min_paragraph_count\": 2,\n",
    "    \"max_paragraph_count\": 3,\n",
    "    \"min_word_count\": 200,\n",
    "    \"max_word_count\": 300,\n",
    "    \"tone\": \"semi-formal\"\n",
    "}"
   ]
  },
  {
   "cell_type": "code",
   "execution_count": 37,
   "id": "9d75b0aa",
   "metadata": {},
   "outputs": [],
   "source": [
    "# Search's dedicated instructions\n",
    "search_agent_instructions = f\" You are a research assistant.\\\n",
    "                Given a search term, you search the web for that term and produce a concise summary of the results.\\\n",
    "                The summary must be {search_agent_instructions_params[\"min_paragraph_count\"]}-{search_agent_instructions_params[\"max_paragraph_count\"]} paragraphs and between than {search_agent_instructions_params[\"min_word_count\"]}-{search_agent_instructions_params[\"max_word_count\"]} words.\\\n",
    "                Capture the main points. Write in a f{search_agent_instructions_params[\"tone\"]} tone.\\\n",
    "                This will be consumed by someone synthesizig a report, so it's vital you capture the essense and ignore any fluff.\\\n",
    "                Do not include any additional commentary other than the summary itself.\""
   ]
  },
  {
   "cell_type": "code",
   "execution_count": 40,
   "id": "0ac730f9",
   "metadata": {},
   "outputs": [],
   "source": [
    "search_agent = Agent(\n",
    "    name=\"Search Agent\",\n",
    "    instructions=search_agent_instructions,\n",
    "    # due to the costs of using the websearchtool, i will use the low settings.\n",
    "    tools=[WebSearchTool(search_context_size=\"low\")],\n",
    "    model=gpt_model,\n",
    "    # search agent is expected to run the tool. \n",
    "    model_settings=ModelSettings(tool_choice=\"required\")\n",
    ")"
   ]
  },
  {
   "cell_type": "code",
   "execution_count": null,
   "id": "170571c9",
   "metadata": {},
   "outputs": [],
   "source": [
    "sample_agent_prompt = \"Apple New Products 2025\"\n",
    "\n",
    "with trace(\"Search\"):\n",
    "    result = await Runner.run(search_agent, sample_agent_prompt)\n",
    "display(Markdown(result.final_output))"
   ]
  },
  {
   "cell_type": "markdown",
   "id": "20a308fb",
   "metadata": {},
   "source": []
  }
 ],
 "metadata": {
  "kernelspec": {
   "display_name": "agents (3.12.11)",
   "language": "python",
   "name": "python3"
  },
  "language_info": {
   "codemirror_mode": {
    "name": "ipython",
    "version": 3
   },
   "file_extension": ".py",
   "mimetype": "text/x-python",
   "name": "python",
   "nbconvert_exporter": "python",
   "pygments_lexer": "ipython3",
   "version": "3.12.11"
  }
 },
 "nbformat": 4,
 "nbformat_minor": 5
}
