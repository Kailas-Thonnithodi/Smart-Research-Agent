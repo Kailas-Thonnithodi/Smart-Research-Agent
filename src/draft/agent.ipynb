{
 "cells": [
  {
   "cell_type": "markdown",
   "id": "ad619d2e",
   "metadata": {},
   "source": [
    "# Libraries"
   ]
  },
  {
   "cell_type": "markdown",
   "id": "4996df11",
   "metadata": {},
   "source": [
    "## Agentic Related"
   ]
  },
  {
   "cell_type": "code",
   "execution_count": 1,
   "id": "d1d9ece3",
   "metadata": {},
   "outputs": [],
   "source": [
    "from agents import Agent, WebSearchTool, trace, Runner, gen_trace_id, function_tool, OpenAIChatCompletionsModel, input_guardrail, GuardrailFunctionOutput\n",
    "from openai import AsyncOpenAI\n",
    "from agents.model_settings import ModelSettings"
   ]
  },
  {
   "cell_type": "markdown",
   "id": "4bcb997c",
   "metadata": {},
   "source": [
    "## Exterior"
   ]
  },
  {
   "cell_type": "code",
   "execution_count": 2,
   "id": "0944e84a",
   "metadata": {},
   "outputs": [],
   "source": [
    "from pydantic import BaseModel\n",
    "import asyncio\n",
    "import sendgrid\n",
    "from sendgrid.helpers.mail import Mail, Email, To, Content"
   ]
  },
  {
   "cell_type": "markdown",
   "id": "707982f0",
   "metadata": {},
   "source": [
    "## Interior"
   ]
  },
  {
   "cell_type": "code",
   "execution_count": 3,
   "id": "4ae28614",
   "metadata": {},
   "outputs": [],
   "source": [
    "from dotenv import load_dotenv\n",
    "import os\n",
    "from typing import Dict\n",
    "from IPython.display import display, Markdown"
   ]
  },
  {
   "cell_type": "markdown",
   "id": "b958ddfa",
   "metadata": {},
   "source": [
    "# Development"
   ]
  },
  {
   "cell_type": "markdown",
   "id": "0c081ac3",
   "metadata": {},
   "source": [
    "## Loading in Gemini and OpenAI Models"
   ]
  },
  {
   "cell_type": "code",
   "execution_count": 4,
   "id": "359099a2",
   "metadata": {},
   "outputs": [],
   "source": [
    "# OpenAI\n",
    "load_dotenv(override=True)\n",
    "gpt_model = \"gpt-4o-mini\"\n",
    "\n",
    "# Gemini\n",
    "gemini = {\n",
    "    \"base_model\": \"gemini-2.0-flash\",\n",
    "    \"api_key\": os.getenv(\"GEMINI_API_KEY\"),\n",
    "    \"base_url\": \"https://generativelanguage.googleapis.com/v1beta/openai/\"\n",
    "}\n",
    "\n",
    "gemini_client = AsyncOpenAI(base_url=gemini[\"base_url\"], api_key=gemini[\"api_key\"])\n",
    "gemini_model = OpenAIChatCompletionsModel(model=gemini[\"base_model\"], openai_client=gemini_client)"
   ]
  },
  {
   "cell_type": "markdown",
   "id": "45c9a049",
   "metadata": {},
   "source": [
    "## Development Summary\n",
    "* OpenAI Agents SDK includes some hosted tools, these include:\\\n",
    "WebSearchTool --> Allows an agent to search the web.\\\n",
    "FileSearchTool --> Allows retrieving information from OpenAI Vector Stores.\\\n",
    "ComputerTool --> Allows automating computer use tasks. These could include taking screenshots, clicking, searching, or other operations, which would require guardrails to limit certain conditions."
   ]
  },
  {
   "cell_type": "markdown",
   "id": "30f9c433",
   "metadata": {},
   "source": [
    "## Search Agent"
   ]
  },
  {
   "cell_type": "code",
   "execution_count": 5,
   "id": "9d75b0aa",
   "metadata": {},
   "outputs": [],
   "source": [
    "# The search agent's instructions parameters values. (these can be changed based on your liking)\n",
    "search_agent_instructions_params = {\n",
    "    \"min_paragraph_count\": 2,\n",
    "    \"max_paragraph_count\": 3,\n",
    "    \"min_word_count\": 200,\n",
    "    \"max_word_count\": 300,\n",
    "    \"tone\": \"semi-formal\"\n",
    "}\n",
    "\n",
    "# Search's dedicated instructions\n",
    "search_agent_instructions = f\" You are a research assistant.\\\n",
    "                Given a search term, you search the web for that term and produce a concise summary of the results.\\\n",
    "                The summary must be {search_agent_instructions_params[\"min_paragraph_count\"]}-{search_agent_instructions_params[\"max_paragraph_count\"]} paragraphs and between than {search_agent_instructions_params[\"min_word_count\"]}-{search_agent_instructions_params[\"max_word_count\"]} words.\\\n",
    "                Capture the main points. Write in a {search_agent_instructions_params[\"tone\"]} tone.\\\n",
    "                This will be consumed by someone synthesizig a report, so it's vital you capture the essense and ignore any fluff.\\\n",
    "                Do not include any additional commentary other than the summary itself.\""
   ]
  },
  {
   "cell_type": "code",
   "execution_count": 6,
   "id": "0ac730f9",
   "metadata": {},
   "outputs": [],
   "source": [
    "search_agent = Agent(\n",
    "    name=\"Search Agent\",\n",
    "    instructions=search_agent_instructions,\n",
    "    # due to the costs of using the websearchtool, i will use the low settings.\n",
    "    tools=[WebSearchTool(search_context_size=\"low\")],\n",
    "    model=gpt_model,\n",
    "    # search agent is expected to run the tool. \n",
    "    model_settings=ModelSettings(tool_choice=\"required\")\n",
    ")"
   ]
  },
  {
   "cell_type": "code",
   "execution_count": 7,
   "id": "170571c9",
   "metadata": {},
   "outputs": [
    {
     "data": {
      "text/markdown": [
       "In 2025, Nvidia has introduced several significant AI innovations across hardware, software, and collaborative initiatives. A notable advancement is the Rubin microarchitecture, set for mass production in late 2025 and availability in early 2026. This architecture boasts a GPU capable of 50 petaflops in FP4 performance, a substantial increase from its predecessor, Blackwell. Additionally, Nvidia unveiled the Feynman microarchitecture, named after physicist Richard Feynman, with a planned release in 2028. Feynman will utilize High Bandwidth Memory (HBM) and is being developed using Nvidia's Blackwell GPUs to accelerate its design. ([en.wikipedia.org](https://en.wikipedia.org/wiki/Rubin_%28microarchitecture%29?utm_source=openai))\n",
       "\n",
       "On the software front, Nvidia introduced the Cosmos platform, a world foundation model designed to advance physical AI in robotics and autonomous vehicles. Cosmos integrates generative models, tokenizers, and a video processing pipeline to enable AI systems to predict and evaluate multiple future scenarios, facilitating better decision-making in complex environments. This platform has been adopted by leading robotics and automotive companies, including Uber. ([blogs.nvidia.com](https://blogs.nvidia.com/blog/ces-2025-jensen-huang/?utm_source=openai))\n",
       "\n",
       "In terms of collaborative efforts, Nvidia announced a $100 billion investment in OpenAI to significantly enhance the AI firm's computing capacity, particularly supporting the development of ChatGPT. This investment includes building at least 10 gigawatts of Nvidia-powered AI data centers, with the first gigawatt to be installed in the second half of 2026. This initiative complements OpenAI's broader collaborations with companies like Microsoft, Oracle, and SoftBank, which have previously pledged additional investments for AI infrastructure. ([apnews.com](https://apnews.com/article/610d894d93f9be23c46762950997a67f?utm_source=openai))\n",
       "\n",
       "These developments underscore Nvidia's commitment to advancing AI technologies through substantial hardware innovations, strategic software platforms, and significant investments in collaborative partnerships. "
      ],
      "text/plain": [
       "<IPython.core.display.Markdown object>"
      ]
     },
     "metadata": {},
     "output_type": "display_data"
    }
   ],
   "source": [
    "sample_agent_prompt = \"Nvidia's AI innovations of 2025\"\n",
    "\n",
    "with trace(\"Search\"):\n",
    "    result = await Runner.run(search_agent, sample_agent_prompt)\n",
    "display(Markdown(result.final_output))"
   ]
  },
  {
   "cell_type": "markdown",
   "id": "198b6d26",
   "metadata": {},
   "source": [
    "## Planner Agent\n",
    "The overall purpose of the planner agent is to produce x searches which will help the search agent when it's going to do it's searching.\n",
    "No searching is conducted here, however it will be used before the searching, in order help navigate the searching terms before applying the WebSearchTool. \n",
    "* Takes in a query, and then taking in x amount of searches surrounded around the query.\n",
    "* The more queries, the more deeper the research material will be (however this will come at a higher cost)"
   ]
  },
  {
   "cell_type": "code",
   "execution_count": 8,
   "id": "f83f7e32",
   "metadata": {},
   "outputs": [],
   "source": [
    "# Due to costs of SearchTool, I will us 2 for now. \n",
    "SEARCHES = 3"
   ]
  },
  {
   "cell_type": "code",
   "execution_count": 9,
   "id": "86586d8f",
   "metadata": {},
   "outputs": [],
   "source": [
    "planner_agent_instructions = f\"You are a helpful research assistant. Given a query, come up with a set of web searches to perform to best answer the query.\\\n",
    "                                Output {SEARCHES} terms to query for.\""
   ]
  },
  {
   "cell_type": "code",
   "execution_count": 10,
   "id": "dc0413b9",
   "metadata": {},
   "outputs": [],
   "source": [
    "# WebSearchItem stores the reasoning for behind the search (structured output)\n",
    "class WebSearchItem(BaseModel):\n",
    "    reason: str\n",
    "    \"Your reasoning for why this search is important to the query.\"\n",
    "    query: str\n",
    "    \"The search term to use for the web search.\"\n",
    "\n",
    "# WebSearchPlan stores the list of web searches to perform to best answer the query (structured output)\n",
    "class WebSearchPlan(BaseModel):\n",
    "    searches: list[WebSearchItem]\n",
    "    \"A list of web searches to perform to best answer the query.\""
   ]
  },
  {
   "cell_type": "code",
   "execution_count": 11,
   "id": "5eb8e465",
   "metadata": {},
   "outputs": [],
   "source": [
    "planner_agent = Agent(\n",
    "    name=\"Planner Agent\",\n",
    "    instructions=planner_agent_instructions,\n",
    "    model=gpt_model,\n",
    "    output_type=WebSearchPlan\n",
    ")"
   ]
  },
  {
   "cell_type": "code",
   "execution_count": 12,
   "id": "37c77974",
   "metadata": {},
   "outputs": [],
   "source": [
    "# with trace(\"Search\"):\n",
    "#     result = await Runner.run(planner_agent, sample_agent_prompt)"
   ]
  },
  {
   "cell_type": "markdown",
   "id": "ec5076c2",
   "metadata": {},
   "source": []
  },
  {
   "cell_type": "markdown",
   "id": "336632b8",
   "metadata": {},
   "source": [
    "## Email Agent\n",
    "* The function will send an email of the summary of the detailed report to my email (kthonnithodi@gmail.com)\n",
    "* The sendgrid api has already been pre configured with the api to my email, however in the future I would like to use any email in the parameter."
   ]
  },
  {
   "cell_type": "code",
   "execution_count": 13,
   "id": "aa0ebee1",
   "metadata": {},
   "outputs": [],
   "source": [
    "@function_tool\n",
    "def send_email(subject: str, html_body: str) -> Dict[str, str]:\n",
    "    sg_instance = sendgrid.SendGridAPIClient(api_key=os.environ.get(\"SENDGRID_API_KEY\"))\n",
    "    from_email = Email(\"kthonnithodi@gmail.com\")\n",
    "    to_email = To(\"kthonnithodi@gmail.com\")\n",
    "    context = Content(\"text/html\", html_body)\n",
    "    mail = Mail(from_email, to_email, subject, context).get()\n",
    "    response = sg_instance.client.mail.send.post(request_body=mail)\n",
    "    return {\"status\": \"success\"}"
   ]
  },
  {
   "cell_type": "code",
   "execution_count": 14,
   "id": "6e076b38",
   "metadata": {},
   "outputs": [],
   "source": [
    "email_agent_instructions = (\n",
    "    \"You are able to send a nicely formatted HTML email based on a detailed report.\\n\"\n",
    "    \"You will be provided with a detailed report. You should use your tool to send one email, providing the report converted into clean, well presented HTML with an appropriate subject line.\"\n",
    ")"
   ]
  },
  {
   "cell_type": "code",
   "execution_count": 15,
   "id": "d65fe179",
   "metadata": {},
   "outputs": [],
   "source": [
    "email_agent = Agent(\n",
    "    name=\"Email Agent\",\n",
    "    instructions=email_agent_instructions,\n",
    "    tools=[send_email],\n",
    "    model=gpt_model\n",
    ")"
   ]
  },
  {
   "cell_type": "markdown",
   "id": "fff1753a",
   "metadata": {},
   "source": [
    "## Writer Agent\n",
    "* This agent will produce report, given the findings derived from the search agents summary from it's planner agent queries.\n",
    "* Right now the Agentic Workflow would like the following: Planner Agent --> Search Agent --> Writer Agent --> Email Agent (this would handover)"
   ]
  },
  {
   "cell_type": "code",
   "execution_count": null,
   "id": "988dfcc0",
   "metadata": {},
   "outputs": [],
   "source": [
    "writer_agent_instructions_params = {\n",
    "    \"min_paragraph_count\": 5,\n",
    "    \"max_paragraph_count\": 8,\n",
    "    \"min_word_count\": 200,\n",
    "    \"max_word_count\": 300,\n",
    "}\n",
    "\n",
    "writer_agent_instructions = (\n",
<<<<<<< HEAD
    "    \"You are a senior researcher tasked with writing a cohesive report for a research query.\"\n",
    "    \"You will be provided with the original query, and some initial research conducted by a research assistant.\\n\"\n",
    "    \"You should first come up with an outline for the report that describles the structure and flow of the report.\\n\"\n",
    "    \"Then, generate the reportand return that as your final output.\\n\"\n",
    "    \"The final output should be in markdown format, and it should be lengthy and detailed.\\n\"\n",
    "    \"The report much be 2000 words. Less title and more word content please.\\n\"\n",
    "    \"In the reference section, make sure the links are clickable.\"\n",
=======
    "    f\"You are a senior researcher tasked with writing a cohesive report for a research query. \\\n",
    "    You will be provided with the original query, and some initial research conducted by a research assistant.\\\n",
    "    You should first come up with an outline for the report that describles the structure and flow of the report.\\\n",
    "    Then, generate the reportand return that as your final output.\\\n",
    "    The final output should be in markdown format, and it should be lengthy and detailed.\\\n",
    "    Aim for around {writer_agent_instructions_params[\"min_paragraph_count\"]} - {writer_agent_instructions_params[\"max_paragraph_count\"]} paragraphs.\\\n",
    "    Furthermore, report should consist of {writer_agent_instructions_params[\"min_word_count\"]} - {writer_agent_instructions_params[\"max_word_count\"]} word count.\"\n",
>>>>>>> e47db94c628b3845f155da22fb54f042e56fbf23
    ")"
   ]
  },
  {
   "cell_type": "code",
   "execution_count": 17,
   "id": "b60d5440",
   "metadata": {},
   "outputs": [],
   "source": [
    "# The strucuture of the report (summary, then actual report, then follow up questions at the bottom of the report.)\n",
    "class ReportData(BaseModel):\n",
    "    short_summary: str\n",
    "    \"A short 2-3 sentence summary of the findings.\"\n",
    "    markdown_report: str\n",
    "    \"The final report.\"\n",
    "    follow_up_questions: list[str]\n",
    "    \"Suggested topics to research further.\""
   ]
  },
  {
   "cell_type": "code",
   "execution_count": 18,
   "id": "deb1e669",
   "metadata": {},
   "outputs": [],
   "source": [
    "writer_agent = Agent(\n",
    "    name=\"Writer Agent\",\n",
    "    instructions=writer_agent_instructions,\n",
    "    model=gpt_model,\n",
    "    output_type=ReportData\n",
    ")"
   ]
  },
  {
   "cell_type": "markdown",
   "id": "0bc3a3ae",
   "metadata": {},
   "source": [
    "## Functions for planning and execute the search, using planner and search agent"
   ]
  },
  {
   "cell_type": "markdown",
   "id": "00fee050",
   "metadata": {},
   "source": [
    "### Search and Planner Agent Coordination Functions"
   ]
  },
  {
   "cell_type": "code",
   "execution_count": 19,
   "id": "18184077",
   "metadata": {},
   "outputs": [],
   "source": [
    "async def plan_searches(query: str):\n",
    "    '''\n",
    "    1. The planner agent will return the output of 3 searches (reason and query) based on a topic.\n",
    "    2. The output will show a list of the queries (along with respective reasoning) in the form of a WorkSearchPlan.\n",
    "    '''\n",
    "    result = await Runner.run(planner_agent, f\"Query: {query}\")\n",
    "    return result.final_output\n",
    "\n",
    "async def execute_websearch(item: WebSearchItem):\n",
    "    '''\n",
    "    Use the search agent to run a web search for an instance of the WebSearchItem (one of the queries produced from the plan_searches)\n",
    "    '''\n",
    "    message = f\"Search term: {item.query}\\nReason for searching: {item.reason}\"\n",
    "    result = await Runner.run(search_agent, message)\n",
    "\n",
    "async def execute_websearches(search_plan: WebSearchPlan):\n",
    "    '''\n",
    "    1. Collects the search plan from the plan_searches function call (or the search_plan websearchplan variable)\n",
    "    2. For each query search query in the search plan, create an asyncio task for using a search query. \n",
    "    3. This will scour the internet for each one (in parallel, since they are independant tasks).\n",
    "    4. After creating a co-routine for each, then apply gather for each task in the co-routine to run cocurrently.\n",
    "    5. The end result should be compilation x amount of searches for each query (the summary report for each query generate by the research assistant).\n",
    "    '''\n",
    "    tasks = [asyncio.create_task(execute_websearch(item)) for item in search_plan.searches]\n",
    "    results = await asyncio.gather(*tasks)\n",
    "    return results\n",
    "\n",
    "# Order Plan Searches --> Execute_Websearches(Execute(Websearch)[Plan Search x])"
   ]
  },
  {
   "cell_type": "markdown",
   "id": "5ecfb0b1",
   "metadata": {},
   "source": [
    "### Writer and Email Agent Coordination Functions"
   ]
<<<<<<< HEAD
  },
  {
   "cell_type": "code",
   "execution_count": 20,
   "id": "c133d24d",
   "metadata": {},
   "outputs": [],
   "source": [
    "async def write_report(query: str, search_results: list[str]):\n",
    "    '''\n",
    "    Using the writer agent to write a report based on the search results.\n",
    "    This will output a long report based on the results gathered from the search queries and the original query question. \n",
    "    '''\n",
    "    message = f\"Original query: {query}\\n Summarised search results: {search_results}\"\n",
    "    result = await Runner.run(writer_agent, message)\n",
    "    return result.final_output\n",
    "\n",
    "async def send_email(report: ReportData):\n",
    "    '''\n",
    "    Based on the result produced from the \n",
    "    '''\n",
    "    results = await Runner.run(email_agent, report.markdown_report)\n",
    "    return report\n"
   ]
  },
  {
   "cell_type": "markdown",
   "id": "c021c241",
   "metadata": {},
   "source": [
    "# Final Execution"
   ]
  },
  {
   "cell_type": "code",
   "execution_count": 21,
   "id": "b20114f8",
   "metadata": {},
   "outputs": [
    {
     "data": {
      "text/plain": [
       "ReportData(short_summary=\"This report explores Nvidia's anticipated AI innovations in 2025, including advancements in hardware, software, applications across industries, and the implications of these technologies on society and the economy.\", markdown_report=\"# Nvidia's AI Innovations of 2025\\n\\n## Table of Contents\\n1. [Introduction](#introduction)\\n2. [Nvidia's Historical Context in AI](#historical-context)\\n3. [Projected AI Innovations in Hardware](#hardware-innovations)\\n   1. [Next-Generation Graphics Processing Units (GPUs)](#next-gen-gpus)\\n   2. [AI-Specific Hardware Solutions](#ai-specific-hardware)\\n4. [Software and Framework Developments](#software-developments)\\n   1. [Advancements in AI Frameworks](#ai-frameworks)\\n   2. [Deep Learning and Reinforcement Learning Innovations](#deep-learning-innovations)\\n5. [Industry Applications in 2025](#industry-applications)\\n   1. [Healthcare](#healthcare)\\n   2. [Automotive](#automotive)\\n   3. [Finance](#finance)\\n   4. [Gaming](#gaming)\\n6. [Societal Implications of AI Innovations](#societal-implications)\\n   1. [Ethical Considerations](#ethics)\\n   2. [Impact on Employment](#employment-impact)\\n7. [Conclusion](#conclusion)\\n8. [References](#references)  \\n\\n---\\n\\n## Introduction\\nNvidia has been at the forefront of AI innovations in recent years, swinging the spotlight from mere graphics processing to comprehensive Artificial Intelligence solutions. With 2025 on the horizon, it becomes crucial to explore Nvidia's projected advancements in AI technologies. This report outlines Nvidia’s anticipated innovations in hardware, software, and industry applications, along with the societal implications tied to these developments.\\n\\n## Nvidia's Historical Context in AI  \\nBefore delving into future projections, it is essential to understand Nvidia's legacy within the realm of Artificial Intelligence. Founded in 1993, Nvidia initially built its reputation on high-performance GPUs primarily for gaming. However, the company pivoted to embrace AI and deep learning technologies, which are now intrinsic to its business model. The launch of Nvidia's CUDA in 2006, for instance, marked a significant step in enabling parallel computing, affording developers a platform to advance their AI projects more efficiently.\\n\\nOver the years, Nvidia has become synonymous with AI model training, evident in partnerships with leading tech firms and research institutions. From powering autonomous vehicles to aiding drug discovery, Nvidia has established a diverse portfolio of AI applications. This historical context highlights the company's capacity for innovation, setting the stage for anticipated breakthroughs in 2025.\\n\\n## Projected AI Innovations in Hardware  \\nHardware sets the foundation for AI capacity. As we look ahead to 2025, several hardware advancements are expected to enrich Nvidia’s offerings.\\n\\n### Next-Generation Graphics Processing Units (GPUs)  \\nNvidia has already set a precedent for innovation in GPU architecture with its Ampere series. However, by 2025, we can expect the emergence of next-generation GPUs—potentially named after a physical phenomenon or astronomical event—boasting even greater processing power and efficiency. These GPUs are anticipated to leverage increased numbers of cores and enhanced clocks that focus on AI workloads.\\n\\nFurthermore, with the integration of technologies like Ray Tracing and DLSS (Deep Learning Super Sampling), gamers will experience an unprecedented level of immersion and realism. The forthcoming chips are likely to enable seamless transitions between gaming and AI tasks, catering to both industries all in one platform.\\n\\n### AI-Specific Hardware Solutions  \\nBeyond GPUs, Nvidia is expected to introduce dedicated AI hardware solutions. Among the most talked-about innovations could be the Tensor Cores, currently a part of their GPU lineup, evolving into standalone units engineered specifically for tensor computations, which are essential for deep learning applications. As AI demands surge, hardware capable of optimizing these calculations will become invaluable.\\n\\nAnother expected development is the adoption of Quantum Computing elements into Nvidia’s hardware platforms, which could pave the way for faster processing speeds for specific AI tasks. Although still in its infancy, Quantum AI has the potential to drastically change the landscape of problem-solving and computational power.\\n\\n## Software and Framework Developments  \\nInnovations in AI hardware must be coupled with robust software solutions. Nvidia's software advancements are likely to keep pace with their hardware innovations.\\n\\n### Advancements in AI Frameworks  \\nIn the coming years, Nvidia is expected to enhance its suite of AI frameworks, primarily TensorRT and NVIDIA DeepStream. New upgrades will enable more streamlined processes, reducing complexity for developers while improving model deployment capabilities. There could also be a focus on improved interoperability with popular open-source frameworks like TensorFlow and PyTorch.\\n\\nMoreover, we can anticipate functionalities designed for low-latency application requirements, particularly in high-frequency trading and autonomous driving scenarios, featuring intuitive interfaces and upgraded documentation that aids developers in utilizing the frameworks more effectively.\\n\\n### Deep Learning and Reinforcement Learning Innovations  \\nAs AI grows more sophisticated, so do the learning methods employed. Innovations in deep learning and reinforcement learning algorithms may be expected from Nvidia by 2025. These innovations will likely involve hybrid models that combine supervised learning techniques with unsupervised learning concepts, allowing for more versatile AI applications in real-world scenarios.\\n\\nThe reinforcement learning algorithms may see advancements in their efficiency, helping autonomous systems learn from minimal data interactions, ultimately reducing the need for extensive training datasets.\\n\\n## Industry Applications in 2025  \\nNvidia’s AI innovations will significantly impact various sectors, reshaping how industries operate and deliver value.\\n\\n### Healthcare  \\nThe healthcare industry stands to gain tremendously from Nvidia's advancements. AI models are expected to streamline diagnostic processes, with deep learning algorithms enabling faster and more accurate image processing in radiology and pathology. Enhanced training on larger datasets will produce AI capable of identifying early-stage diseases, particularly in oncology.\\n\\nMoreover, real-time patient monitoring systems with AI integration are anticipated to become standard. Leveraging advanced analytics, these systems could provide timely alerts for abnormal vitals, improving patient outcomes while reducing workloads for healthcare staff.\\n\\n### Automotive  \\nNvidia has long been a player in the automotive sector, working to provide the hardware and software needed for autonomous driving systems. By 2025, one can expect fully operational autonomous systems in specific domains utilizing improved sensor fusion techniques that integrate data from various sensors to yield a cohesive operational view for vehicle navigation.\\n\\nThe implementation of Nvidia's AI systems could also lead to a significant drop in road accidents as cars equipped with advanced AI make instantaneous decisions based on real-time data packets from surrounding environments.\\n\\n### Finance  \\nIn finance, AI advancements by Nvidia could redefine trading algorithms through faster data processing and enhanced predictive analytics. AI-driven investment advisors powered by Nvidia technology could provide personalized financial advice based on individual user behavior and trends.\\n\\nMoreover, fraud detection systems utilizing deep learning algorithms can proactively identify patterns indicative of fraudulent activity, thereby safeguarding assets in a rapidly digitizing financial landscape.\\n\\n### Gaming  \\nAs gaming becomes increasingly important, Nvidia's innovations in AI will likely enhance user experiences significantly. We may see personalized gaming environments where AI learns about user behavior, adapting and fine-tuning gaming experiences in real-time.\\n\\nFurthermore, the integration of AI into game design may facilitate the creation of more dynamic non-player characters (NPCs) that exhibit human-like behaviors, enhancing engagement and immersion.\\n\\n## Societal Implications of AI Innovations  \\nWhile Nvidia’s innovations present exciting prospects, they also carry significant societal implications that warrant discussion.\\n\\n### Ethical Considerations  \\nAs AI technologies continue to advance, ethical considerations will become a critical focus. Issues around privacy, surveillance, and the ethical use of AI in sensitive areas like criminal justice require ongoing scrutiny. Nvidia, alongside other tech companies, will need to tread carefully in AI deployments, ensuring compliance with regulations and ethical standards to maintain public trust.\\n\\n### Impact on Employment  \\nAutomation driven by advanced AI systems will also impact job markets globally. While some roles may become obsolete, new positions will arise that focus on managing and maintaining AI systems. Upskilling and reskilling the current workforce will be crucial to navigate this transition without significant employment disruption.\\n\\n## Conclusion  \\nNvidia’s anticipated innovations in AI by 2025 promise to profoundly reshape various elements of society, economy, and technology. By embracing advancements in both hardware and software, Nvidia is poised to maintain its leadership position in the AI landscape. However, with these advancements come ethical dilemmas that must not be overlooked. Therefore, the pathway to 2025 signifies not just technological evolution but also a societal journey requiring cooperation among technology developers, regulatory entities, and the community at large.\\n\\n## References  \\n- [Nvidia Corporate](https://www.nvidia.com/en-us/)  \\n- [AI Hardware Evolution](https://www.nvidia.com/en-us/deep-learning-ai/hardware/)  \\n- [Innovations in AI Software at Nvidia](https://developer.nvidia.com/)  \\n- [Impact of AI in Healthcare](https://www.healthit.gov/)  \\n- [Autonomous Vehicles and AI](https://www.nhtsa.gov/equipment/autonomous-vehicles)  \\n- [AI in Finance](https://www.forbes.com/)  \\n- [Ethics in AI](https://www.aaai.org/)\\n\", follow_up_questions=['What specific technologies is Nvidia investing in for AI advancements?', \"How might Nvidia's innovations impact competitors in the AI space?\", 'What measures is Nvidia taking to address ethical concerns in AI development?', 'How does Nvidia plan to engage with governments and regulatory bodies regarding AI technologies?', 'What are some potential limitations or risks associated with these innovations?'])"
      ]
     },
     "execution_count": 21,
     "metadata": {},
     "output_type": "execute_result"
    }
   ],
   "source": [
    "prompt = sample_agent_prompt\n",
    "search_plan = await plan_searches(prompt)\n",
    "search_results = await execute_websearches(search_plan)\n",
    "report = await write_report(prompt, search_results)\n",
    "await send_email(report)"
   ]
  },
  {
   "cell_type": "code",
   "execution_count": 22,
   "id": "1c6f40af",
   "metadata": {},
   "outputs": [
    {
     "name": "stdout",
     "output_type": "stream",
     "text": [
      "short_summary=\"This report explores Nvidia's anticipated AI innovations in 2025, including advancements in hardware, software, applications across industries, and the implications of these technologies on society and the economy.\" markdown_report=\"# Nvidia's AI Innovations of 2025\\n\\n## Table of Contents\\n1. [Introduction](#introduction)\\n2. [Nvidia's Historical Context in AI](#historical-context)\\n3. [Projected AI Innovations in Hardware](#hardware-innovations)\\n   1. [Next-Generation Graphics Processing Units (GPUs)](#next-gen-gpus)\\n   2. [AI-Specific Hardware Solutions](#ai-specific-hardware)\\n4. [Software and Framework Developments](#software-developments)\\n   1. [Advancements in AI Frameworks](#ai-frameworks)\\n   2. [Deep Learning and Reinforcement Learning Innovations](#deep-learning-innovations)\\n5. [Industry Applications in 2025](#industry-applications)\\n   1. [Healthcare](#healthcare)\\n   2. [Automotive](#automotive)\\n   3. [Finance](#finance)\\n   4. [Gaming](#gaming)\\n6. [Societal Implications of AI Innovations](#societal-implications)\\n   1. [Ethical Considerations](#ethics)\\n   2. [Impact on Employment](#employment-impact)\\n7. [Conclusion](#conclusion)\\n8. [References](#references)  \\n\\n---\\n\\n## Introduction\\nNvidia has been at the forefront of AI innovations in recent years, swinging the spotlight from mere graphics processing to comprehensive Artificial Intelligence solutions. With 2025 on the horizon, it becomes crucial to explore Nvidia's projected advancements in AI technologies. This report outlines Nvidia’s anticipated innovations in hardware, software, and industry applications, along with the societal implications tied to these developments.\\n\\n## Nvidia's Historical Context in AI  \\nBefore delving into future projections, it is essential to understand Nvidia's legacy within the realm of Artificial Intelligence. Founded in 1993, Nvidia initially built its reputation on high-performance GPUs primarily for gaming. However, the company pivoted to embrace AI and deep learning technologies, which are now intrinsic to its business model. The launch of Nvidia's CUDA in 2006, for instance, marked a significant step in enabling parallel computing, affording developers a platform to advance their AI projects more efficiently.\\n\\nOver the years, Nvidia has become synonymous with AI model training, evident in partnerships with leading tech firms and research institutions. From powering autonomous vehicles to aiding drug discovery, Nvidia has established a diverse portfolio of AI applications. This historical context highlights the company's capacity for innovation, setting the stage for anticipated breakthroughs in 2025.\\n\\n## Projected AI Innovations in Hardware  \\nHardware sets the foundation for AI capacity. As we look ahead to 2025, several hardware advancements are expected to enrich Nvidia’s offerings.\\n\\n### Next-Generation Graphics Processing Units (GPUs)  \\nNvidia has already set a precedent for innovation in GPU architecture with its Ampere series. However, by 2025, we can expect the emergence of next-generation GPUs—potentially named after a physical phenomenon or astronomical event—boasting even greater processing power and efficiency. These GPUs are anticipated to leverage increased numbers of cores and enhanced clocks that focus on AI workloads.\\n\\nFurthermore, with the integration of technologies like Ray Tracing and DLSS (Deep Learning Super Sampling), gamers will experience an unprecedented level of immersion and realism. The forthcoming chips are likely to enable seamless transitions between gaming and AI tasks, catering to both industries all in one platform.\\n\\n### AI-Specific Hardware Solutions  \\nBeyond GPUs, Nvidia is expected to introduce dedicated AI hardware solutions. Among the most talked-about innovations could be the Tensor Cores, currently a part of their GPU lineup, evolving into standalone units engineered specifically for tensor computations, which are essential for deep learning applications. As AI demands surge, hardware capable of optimizing these calculations will become invaluable.\\n\\nAnother expected development is the adoption of Quantum Computing elements into Nvidia’s hardware platforms, which could pave the way for faster processing speeds for specific AI tasks. Although still in its infancy, Quantum AI has the potential to drastically change the landscape of problem-solving and computational power.\\n\\n## Software and Framework Developments  \\nInnovations in AI hardware must be coupled with robust software solutions. Nvidia's software advancements are likely to keep pace with their hardware innovations.\\n\\n### Advancements in AI Frameworks  \\nIn the coming years, Nvidia is expected to enhance its suite of AI frameworks, primarily TensorRT and NVIDIA DeepStream. New upgrades will enable more streamlined processes, reducing complexity for developers while improving model deployment capabilities. There could also be a focus on improved interoperability with popular open-source frameworks like TensorFlow and PyTorch.\\n\\nMoreover, we can anticipate functionalities designed for low-latency application requirements, particularly in high-frequency trading and autonomous driving scenarios, featuring intuitive interfaces and upgraded documentation that aids developers in utilizing the frameworks more effectively.\\n\\n### Deep Learning and Reinforcement Learning Innovations  \\nAs AI grows more sophisticated, so do the learning methods employed. Innovations in deep learning and reinforcement learning algorithms may be expected from Nvidia by 2025. These innovations will likely involve hybrid models that combine supervised learning techniques with unsupervised learning concepts, allowing for more versatile AI applications in real-world scenarios.\\n\\nThe reinforcement learning algorithms may see advancements in their efficiency, helping autonomous systems learn from minimal data interactions, ultimately reducing the need for extensive training datasets.\\n\\n## Industry Applications in 2025  \\nNvidia’s AI innovations will significantly impact various sectors, reshaping how industries operate and deliver value.\\n\\n### Healthcare  \\nThe healthcare industry stands to gain tremendously from Nvidia's advancements. AI models are expected to streamline diagnostic processes, with deep learning algorithms enabling faster and more accurate image processing in radiology and pathology. Enhanced training on larger datasets will produce AI capable of identifying early-stage diseases, particularly in oncology.\\n\\nMoreover, real-time patient monitoring systems with AI integration are anticipated to become standard. Leveraging advanced analytics, these systems could provide timely alerts for abnormal vitals, improving patient outcomes while reducing workloads for healthcare staff.\\n\\n### Automotive  \\nNvidia has long been a player in the automotive sector, working to provide the hardware and software needed for autonomous driving systems. By 2025, one can expect fully operational autonomous systems in specific domains utilizing improved sensor fusion techniques that integrate data from various sensors to yield a cohesive operational view for vehicle navigation.\\n\\nThe implementation of Nvidia's AI systems could also lead to a significant drop in road accidents as cars equipped with advanced AI make instantaneous decisions based on real-time data packets from surrounding environments.\\n\\n### Finance  \\nIn finance, AI advancements by Nvidia could redefine trading algorithms through faster data processing and enhanced predictive analytics. AI-driven investment advisors powered by Nvidia technology could provide personalized financial advice based on individual user behavior and trends.\\n\\nMoreover, fraud detection systems utilizing deep learning algorithms can proactively identify patterns indicative of fraudulent activity, thereby safeguarding assets in a rapidly digitizing financial landscape.\\n\\n### Gaming  \\nAs gaming becomes increasingly important, Nvidia's innovations in AI will likely enhance user experiences significantly. We may see personalized gaming environments where AI learns about user behavior, adapting and fine-tuning gaming experiences in real-time.\\n\\nFurthermore, the integration of AI into game design may facilitate the creation of more dynamic non-player characters (NPCs) that exhibit human-like behaviors, enhancing engagement and immersion.\\n\\n## Societal Implications of AI Innovations  \\nWhile Nvidia’s innovations present exciting prospects, they also carry significant societal implications that warrant discussion.\\n\\n### Ethical Considerations  \\nAs AI technologies continue to advance, ethical considerations will become a critical focus. Issues around privacy, surveillance, and the ethical use of AI in sensitive areas like criminal justice require ongoing scrutiny. Nvidia, alongside other tech companies, will need to tread carefully in AI deployments, ensuring compliance with regulations and ethical standards to maintain public trust.\\n\\n### Impact on Employment  \\nAutomation driven by advanced AI systems will also impact job markets globally. While some roles may become obsolete, new positions will arise that focus on managing and maintaining AI systems. Upskilling and reskilling the current workforce will be crucial to navigate this transition without significant employment disruption.\\n\\n## Conclusion  \\nNvidia’s anticipated innovations in AI by 2025 promise to profoundly reshape various elements of society, economy, and technology. By embracing advancements in both hardware and software, Nvidia is poised to maintain its leadership position in the AI landscape. However, with these advancements come ethical dilemmas that must not be overlooked. Therefore, the pathway to 2025 signifies not just technological evolution but also a societal journey requiring cooperation among technology developers, regulatory entities, and the community at large.\\n\\n## References  \\n- [Nvidia Corporate](https://www.nvidia.com/en-us/)  \\n- [AI Hardware Evolution](https://www.nvidia.com/en-us/deep-learning-ai/hardware/)  \\n- [Innovations in AI Software at Nvidia](https://developer.nvidia.com/)  \\n- [Impact of AI in Healthcare](https://www.healthit.gov/)  \\n- [Autonomous Vehicles and AI](https://www.nhtsa.gov/equipment/autonomous-vehicles)  \\n- [AI in Finance](https://www.forbes.com/)  \\n- [Ethics in AI](https://www.aaai.org/)\\n\" follow_up_questions=['What specific technologies is Nvidia investing in for AI advancements?', \"How might Nvidia's innovations impact competitors in the AI space?\", 'What measures is Nvidia taking to address ethical concerns in AI development?', 'How does Nvidia plan to engage with governments and regulatory bodies regarding AI technologies?', 'What are some potential limitations or risks associated with these innovations?']\n"
     ]
    }
   ],
   "source": [
    "print(report)"
   ]
=======
>>>>>>> e47db94c628b3845f155da22fb54f042e56fbf23
  }
 ],
 "metadata": {
  "kernelspec": {
   "display_name": "agents",
   "language": "python",
   "name": "python3"
  },
  "language_info": {
   "codemirror_mode": {
    "name": "ipython",
    "version": 3
   },
   "file_extension": ".py",
   "mimetype": "text/x-python",
   "name": "python",
   "nbconvert_exporter": "python",
   "pygments_lexer": "ipython3",
   "version": "3.12.11"
  }
 },
 "nbformat": 4,
 "nbformat_minor": 5
}
